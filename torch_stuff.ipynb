{
 "cells": [
  {
   "cell_type": "code",
   "execution_count": 1,
   "metadata": {},
   "outputs": [
    {
     "name": "stderr",
     "output_type": "stream",
     "text": [
      "WARNING:root:This caffe2 python run does not have GPU support. Will run in CPU only mode.\n"
     ]
    }
   ],
   "source": [
    "import os\n",
    "import numpy as np\n",
    "import pandas as pd\n",
    "import matplotlib.pyplot as plt\n",
    "import torch\n",
    "import torch.nn.functional as F\n",
    "from pytorch.mnist.pytorch_mnist import build_model, create_data_loaders\n",
    "\n",
    "%matplotlib inline"
   ]
  },
  {
   "cell_type": "code",
   "execution_count": 2,
   "metadata": {},
   "outputs": [
    {
     "name": "stderr",
     "output_type": "stream",
     "text": [
      "/Users/stevethomas/anaconda3/envs/blog/lib/python3.6/site-packages/IPython/core/interactiveshell.py:3051: DtypeWarning: Columns (5) have mixed types.Specify dtype option on import or set low_memory=False.\n",
      "  interactivity=interactivity, compiler=compiler, result=result)\n"
     ]
    }
   ],
   "source": [
    "df = pd.read_csv('dataset_metadata.csv')"
   ]
  },
  {
   "cell_type": "code",
   "execution_count": 2,
   "metadata": {},
   "outputs": [],
   "source": [
    "data_dir = './data/mnist'\n",
    "batch_size = 16\n",
    "run_on_subset = True\n",
    "train_loader, test_loader = create_data_loaders(data_dir, batch_size, run_on_subset)\n",
    "model, optimizer = build_model()"
   ]
  },
  {
   "cell_type": "code",
   "execution_count": 3,
   "metadata": {},
   "outputs": [],
   "source": [
    "for batch_idx, (data, target, filenames) in enumerate(train_loader):\n",
    "  x = data\n",
    "  y = target\n",
    "  f = filenames\n",
    "  break"
   ]
  },
  {
   "cell_type": "code",
   "execution_count": 4,
   "metadata": {},
   "outputs": [],
   "source": [
    "logits, output = model(data)"
   ]
  },
  {
   "cell_type": "code",
   "execution_count": 35,
   "metadata": {},
   "outputs": [
    {
     "ename": "NameError",
     "evalue": "name 'preds' is not defined",
     "output_type": "error",
     "traceback": [
      "\u001b[0;31m---------------------------------------------------------------------------\u001b[0m",
      "\u001b[0;31mNameError\u001b[0m                                 Traceback (most recent call last)",
      "\u001b[0;32m<ipython-input-35-c66c8509e20f>\u001b[0m in \u001b[0;36m<module>\u001b[0;34m\u001b[0m\n\u001b[0;32m----> 1\u001b[0;31m \u001b[0mpreds\u001b[0m\u001b[0;34m\u001b[0m\u001b[0;34m\u001b[0m\u001b[0m\n\u001b[0m",
      "\u001b[0;31mNameError\u001b[0m: name 'preds' is not defined"
     ]
    }
   ],
   "source": [
    "preds"
   ]
  },
  {
   "cell_type": "code",
   "execution_count": 29,
   "metadata": {},
   "outputs": [
    {
     "data": {
      "text/html": [
       "<div>\n",
       "<style scoped>\n",
       "    .dataframe tbody tr th:only-of-type {\n",
       "        vertical-align: middle;\n",
       "    }\n",
       "\n",
       "    .dataframe tbody tr th {\n",
       "        vertical-align: top;\n",
       "    }\n",
       "\n",
       "    .dataframe thead th {\n",
       "        text-align: right;\n",
       "    }\n",
       "</style>\n",
       "<table border=\"1\" class=\"dataframe\">\n",
       "  <thead>\n",
       "    <tr style=\"text-align: right;\">\n",
       "      <th></th>\n",
       "      <th>filename</th>\n",
       "      <th>ground_truth</th>\n",
       "      <th>softmax_score</th>\n",
       "    </tr>\n",
       "  </thead>\n",
       "  <tbody>\n",
       "  </tbody>\n",
       "</table>\n",
       "</div>"
      ],
      "text/plain": [
       "Empty DataFrame\n",
       "Columns: [filename, ground_truth, softmax_score]\n",
       "Index: []"
      ]
     },
     "execution_count": 29,
     "metadata": {},
     "output_type": "execute_result"
    }
   ],
   "source": [
    "df = pd.DataFrame(columns=['filename', 'ground_truth', 'softmax_score'])\n",
    "df.to_csv('test.csv', index=False)\n",
    "df"
   ]
  },
  {
   "cell_type": "code",
   "execution_count": 30,
   "metadata": {},
   "outputs": [
    {
     "data": {
      "text/html": [
       "<div>\n",
       "<style scoped>\n",
       "    .dataframe tbody tr th:only-of-type {\n",
       "        vertical-align: middle;\n",
       "    }\n",
       "\n",
       "    .dataframe tbody tr th {\n",
       "        vertical-align: top;\n",
       "    }\n",
       "\n",
       "    .dataframe thead th {\n",
       "        text-align: right;\n",
       "    }\n",
       "</style>\n",
       "<table border=\"1\" class=\"dataframe\">\n",
       "  <thead>\n",
       "    <tr style=\"text-align: right;\">\n",
       "      <th></th>\n",
       "      <th>filename</th>\n",
       "      <th>ground_truth</th>\n",
       "      <th>softmax_score</th>\n",
       "    </tr>\n",
       "  </thead>\n",
       "  <tbody>\n",
       "    <tr>\n",
       "      <th>0</th>\n",
       "      <td>2149.png</td>\n",
       "      <td>3</td>\n",
       "      <td>[-2.2425644397735596, -2.2969143390655518, -2....</td>\n",
       "    </tr>\n",
       "    <tr>\n",
       "      <th>1</th>\n",
       "      <td>4942.png</td>\n",
       "      <td>1</td>\n",
       "      <td>[-2.3261351585388184, -2.27897310256958, -2.21...</td>\n",
       "    </tr>\n",
       "    <tr>\n",
       "      <th>2</th>\n",
       "      <td>2428.png</td>\n",
       "      <td>5</td>\n",
       "      <td>[-2.2478861808776855, -2.2595767974853516, -2....</td>\n",
       "    </tr>\n",
       "    <tr>\n",
       "      <th>3</th>\n",
       "      <td>2606.png</td>\n",
       "      <td>0</td>\n",
       "      <td>[-2.3220810890197754, -2.2411248683929443, -2....</td>\n",
       "    </tr>\n",
       "    <tr>\n",
       "      <th>4</th>\n",
       "      <td>2113.png</td>\n",
       "      <td>6</td>\n",
       "      <td>[-2.2756190299987793, -2.355272054672241, -2.1...</td>\n",
       "    </tr>\n",
       "    <tr>\n",
       "      <th>5</th>\n",
       "      <td>3884.png</td>\n",
       "      <td>0</td>\n",
       "      <td>[-2.383237838745117, -2.1783034801483154, -2.2...</td>\n",
       "    </tr>\n",
       "    <tr>\n",
       "      <th>6</th>\n",
       "      <td>1356.png</td>\n",
       "      <td>5</td>\n",
       "      <td>[-2.253680944442749, -2.2033157348632812, -2.2...</td>\n",
       "    </tr>\n",
       "    <tr>\n",
       "      <th>7</th>\n",
       "      <td>4367.png</td>\n",
       "      <td>6</td>\n",
       "      <td>[-2.203105926513672, -2.254347324371338, -2.22...</td>\n",
       "    </tr>\n",
       "    <tr>\n",
       "      <th>8</th>\n",
       "      <td>3890.png</td>\n",
       "      <td>2</td>\n",
       "      <td>[-2.3565502166748047, -2.3067069053649902, -2....</td>\n",
       "    </tr>\n",
       "    <tr>\n",
       "      <th>9</th>\n",
       "      <td>296.png</td>\n",
       "      <td>0</td>\n",
       "      <td>[-2.2722108364105225, -2.289062261581421, -2.2...</td>\n",
       "    </tr>\n",
       "    <tr>\n",
       "      <th>10</th>\n",
       "      <td>1771.png</td>\n",
       "      <td>0</td>\n",
       "      <td>[-2.3974573612213135, -2.2905187606811523, -2....</td>\n",
       "    </tr>\n",
       "    <tr>\n",
       "      <th>11</th>\n",
       "      <td>2806.png</td>\n",
       "      <td>0</td>\n",
       "      <td>[-2.3141467571258545, -2.304086685180664, -2.2...</td>\n",
       "    </tr>\n",
       "    <tr>\n",
       "      <th>12</th>\n",
       "      <td>14.png</td>\n",
       "      <td>1</td>\n",
       "      <td>[-2.319129228591919, -2.2587780952453613, -2.2...</td>\n",
       "    </tr>\n",
       "    <tr>\n",
       "      <th>13</th>\n",
       "      <td>2795.png</td>\n",
       "      <td>9</td>\n",
       "      <td>[-2.2640697956085205, -2.2396979331970215, -2....</td>\n",
       "    </tr>\n",
       "    <tr>\n",
       "      <th>14</th>\n",
       "      <td>3652.png</td>\n",
       "      <td>4</td>\n",
       "      <td>[-2.3343005180358887, -2.269516706466675, -2.2...</td>\n",
       "    </tr>\n",
       "    <tr>\n",
       "      <th>15</th>\n",
       "      <td>4617.png</td>\n",
       "      <td>5</td>\n",
       "      <td>[-2.338838577270508, -2.271963357925415, -2.24...</td>\n",
       "    </tr>\n",
       "  </tbody>\n",
       "</table>\n",
       "</div>"
      ],
      "text/plain": [
       "    filename  ground_truth                                      softmax_score\n",
       "0   2149.png             3  [-2.2425644397735596, -2.2969143390655518, -2....\n",
       "1   4942.png             1  [-2.3261351585388184, -2.27897310256958, -2.21...\n",
       "2   2428.png             5  [-2.2478861808776855, -2.2595767974853516, -2....\n",
       "3   2606.png             0  [-2.3220810890197754, -2.2411248683929443, -2....\n",
       "4   2113.png             6  [-2.2756190299987793, -2.355272054672241, -2.1...\n",
       "5   3884.png             0  [-2.383237838745117, -2.1783034801483154, -2.2...\n",
       "6   1356.png             5  [-2.253680944442749, -2.2033157348632812, -2.2...\n",
       "7   4367.png             6  [-2.203105926513672, -2.254347324371338, -2.22...\n",
       "8   3890.png             2  [-2.3565502166748047, -2.3067069053649902, -2....\n",
       "9    296.png             0  [-2.2722108364105225, -2.289062261581421, -2.2...\n",
       "10  1771.png             0  [-2.3974573612213135, -2.2905187606811523, -2....\n",
       "11  2806.png             0  [-2.3141467571258545, -2.304086685180664, -2.2...\n",
       "12    14.png             1  [-2.319129228591919, -2.2587780952453613, -2.2...\n",
       "13  2795.png             9  [-2.2640697956085205, -2.2396979331970215, -2....\n",
       "14  3652.png             4  [-2.3343005180358887, -2.269516706466675, -2.2...\n",
       "15  4617.png             5  [-2.338838577270508, -2.271963357925415, -2.24..."
      ]
     },
     "execution_count": 30,
     "metadata": {},
     "output_type": "execute_result"
    }
   ],
   "source": [
    "data = {'filename': filenames, 'ground_truth': target.tolist(), 'softmax_score':output.tolist()}\n",
    "row = pd.DataFrame(data)\n",
    "row"
   ]
  },
  {
   "cell_type": "code",
   "execution_count": 31,
   "metadata": {},
   "outputs": [
    {
     "data": {
      "text/html": [
       "<div>\n",
       "<style scoped>\n",
       "    .dataframe tbody tr th:only-of-type {\n",
       "        vertical-align: middle;\n",
       "    }\n",
       "\n",
       "    .dataframe tbody tr th {\n",
       "        vertical-align: top;\n",
       "    }\n",
       "\n",
       "    .dataframe thead th {\n",
       "        text-align: right;\n",
       "    }\n",
       "</style>\n",
       "<table border=\"1\" class=\"dataframe\">\n",
       "  <thead>\n",
       "    <tr style=\"text-align: right;\">\n",
       "      <th></th>\n",
       "      <th>filename</th>\n",
       "      <th>ground_truth</th>\n",
       "      <th>softmax_score</th>\n",
       "    </tr>\n",
       "  </thead>\n",
       "  <tbody>\n",
       "    <tr>\n",
       "      <th>0</th>\n",
       "      <td>2149.png</td>\n",
       "      <td>3</td>\n",
       "      <td>[-2.2425644397735596, -2.2969143390655518, -2....</td>\n",
       "    </tr>\n",
       "    <tr>\n",
       "      <th>1</th>\n",
       "      <td>4942.png</td>\n",
       "      <td>1</td>\n",
       "      <td>[-2.3261351585388184, -2.27897310256958, -2.21...</td>\n",
       "    </tr>\n",
       "    <tr>\n",
       "      <th>2</th>\n",
       "      <td>2428.png</td>\n",
       "      <td>5</td>\n",
       "      <td>[-2.2478861808776855, -2.2595767974853516, -2....</td>\n",
       "    </tr>\n",
       "    <tr>\n",
       "      <th>3</th>\n",
       "      <td>2606.png</td>\n",
       "      <td>0</td>\n",
       "      <td>[-2.3220810890197754, -2.2411248683929443, -2....</td>\n",
       "    </tr>\n",
       "    <tr>\n",
       "      <th>4</th>\n",
       "      <td>2113.png</td>\n",
       "      <td>6</td>\n",
       "      <td>[-2.2756190299987793, -2.355272054672241, -2.1...</td>\n",
       "    </tr>\n",
       "    <tr>\n",
       "      <th>5</th>\n",
       "      <td>3884.png</td>\n",
       "      <td>0</td>\n",
       "      <td>[-2.383237838745117, -2.1783034801483154, -2.2...</td>\n",
       "    </tr>\n",
       "    <tr>\n",
       "      <th>6</th>\n",
       "      <td>1356.png</td>\n",
       "      <td>5</td>\n",
       "      <td>[-2.253680944442749, -2.2033157348632812, -2.2...</td>\n",
       "    </tr>\n",
       "    <tr>\n",
       "      <th>7</th>\n",
       "      <td>4367.png</td>\n",
       "      <td>6</td>\n",
       "      <td>[-2.203105926513672, -2.254347324371338, -2.22...</td>\n",
       "    </tr>\n",
       "    <tr>\n",
       "      <th>8</th>\n",
       "      <td>3890.png</td>\n",
       "      <td>2</td>\n",
       "      <td>[-2.3565502166748047, -2.3067069053649902, -2....</td>\n",
       "    </tr>\n",
       "    <tr>\n",
       "      <th>9</th>\n",
       "      <td>296.png</td>\n",
       "      <td>0</td>\n",
       "      <td>[-2.2722108364105225, -2.289062261581421, -2.2...</td>\n",
       "    </tr>\n",
       "    <tr>\n",
       "      <th>10</th>\n",
       "      <td>1771.png</td>\n",
       "      <td>0</td>\n",
       "      <td>[-2.3974573612213135, -2.2905187606811523, -2....</td>\n",
       "    </tr>\n",
       "    <tr>\n",
       "      <th>11</th>\n",
       "      <td>2806.png</td>\n",
       "      <td>0</td>\n",
       "      <td>[-2.3141467571258545, -2.304086685180664, -2.2...</td>\n",
       "    </tr>\n",
       "    <tr>\n",
       "      <th>12</th>\n",
       "      <td>14.png</td>\n",
       "      <td>1</td>\n",
       "      <td>[-2.319129228591919, -2.2587780952453613, -2.2...</td>\n",
       "    </tr>\n",
       "    <tr>\n",
       "      <th>13</th>\n",
       "      <td>2795.png</td>\n",
       "      <td>9</td>\n",
       "      <td>[-2.2640697956085205, -2.2396979331970215, -2....</td>\n",
       "    </tr>\n",
       "    <tr>\n",
       "      <th>14</th>\n",
       "      <td>3652.png</td>\n",
       "      <td>4</td>\n",
       "      <td>[-2.3343005180358887, -2.269516706466675, -2.2...</td>\n",
       "    </tr>\n",
       "    <tr>\n",
       "      <th>15</th>\n",
       "      <td>4617.png</td>\n",
       "      <td>5</td>\n",
       "      <td>[-2.338838577270508, -2.271963357925415, -2.24...</td>\n",
       "    </tr>\n",
       "  </tbody>\n",
       "</table>\n",
       "</div>"
      ],
      "text/plain": [
       "    filename ground_truth                                      softmax_score\n",
       "0   2149.png            3  [-2.2425644397735596, -2.2969143390655518, -2....\n",
       "1   4942.png            1  [-2.3261351585388184, -2.27897310256958, -2.21...\n",
       "2   2428.png            5  [-2.2478861808776855, -2.2595767974853516, -2....\n",
       "3   2606.png            0  [-2.3220810890197754, -2.2411248683929443, -2....\n",
       "4   2113.png            6  [-2.2756190299987793, -2.355272054672241, -2.1...\n",
       "5   3884.png            0  [-2.383237838745117, -2.1783034801483154, -2.2...\n",
       "6   1356.png            5  [-2.253680944442749, -2.2033157348632812, -2.2...\n",
       "7   4367.png            6  [-2.203105926513672, -2.254347324371338, -2.22...\n",
       "8   3890.png            2  [-2.3565502166748047, -2.3067069053649902, -2....\n",
       "9    296.png            0  [-2.2722108364105225, -2.289062261581421, -2.2...\n",
       "10  1771.png            0  [-2.3974573612213135, -2.2905187606811523, -2....\n",
       "11  2806.png            0  [-2.3141467571258545, -2.304086685180664, -2.2...\n",
       "12    14.png            1  [-2.319129228591919, -2.2587780952453613, -2.2...\n",
       "13  2795.png            9  [-2.2640697956085205, -2.2396979331970215, -2....\n",
       "14  3652.png            4  [-2.3343005180358887, -2.269516706466675, -2.2...\n",
       "15  4617.png            5  [-2.338838577270508, -2.271963357925415, -2.24..."
      ]
     },
     "execution_count": 31,
     "metadata": {},
     "output_type": "execute_result"
    }
   ],
   "source": [
    "df = df.append(row, ignore_index=True)\n",
    "df.to_csv('test.csv', mode='a', header=False, index=False)\n",
    "df"
   ]
  },
  {
   "cell_type": "code",
   "execution_count": 5,
   "metadata": {},
   "outputs": [],
   "source": [
    "logits, output = model(data)\n",
    "per_example_loss = F.nll_loss(output, target,  reduction='none')"
   ]
  },
  {
   "cell_type": "code",
   "execution_count": 36,
   "metadata": {},
   "outputs": [],
   "source": [
    "pred = output.data.max(1, keepdim=True)[1].flatten().tolist()\n",
    "ground_truth = target.tolist()"
   ]
  },
  {
   "cell_type": "code",
   "execution_count": 37,
   "metadata": {},
   "outputs": [
    {
     "data": {
      "text/plain": [
       "[3, 1, 5, 0, 6, 0, 5, 6, 2, 0, 0, 0, 1, 9, 4, 5]"
      ]
     },
     "execution_count": 37,
     "metadata": {},
     "output_type": "execute_result"
    }
   ],
   "source": [
    "ground_truth"
   ]
  },
  {
   "cell_type": "code",
   "execution_count": 38,
   "metadata": {},
   "outputs": [
    {
     "data": {
      "text/plain": [
       "[7, 2, 2, 3, 2, 3, 1, 7, 7, 7, 7, 7, 7, 7, 3, 3]"
      ]
     },
     "execution_count": 38,
     "metadata": {},
     "output_type": "execute_result"
    }
   ],
   "source": [
    "pred"
   ]
  },
  {
   "cell_type": "code",
   "execution_count": 39,
   "metadata": {},
   "outputs": [
    {
     "ename": "TypeError",
     "evalue": "unsupported operand type(s) for -: 'list' and 'list'",
     "output_type": "error",
     "traceback": [
      "\u001b[0;31m---------------------------------------------------------------------------\u001b[0m",
      "\u001b[0;31mTypeError\u001b[0m                                 Traceback (most recent call last)",
      "\u001b[0;32m<ipython-input-39-6e2d5c0091ed>\u001b[0m in \u001b[0;36m<module>\u001b[0;34m\u001b[0m\n\u001b[0;32m----> 1\u001b[0;31m \u001b[0mpred\u001b[0m\u001b[0;34m-\u001b[0m\u001b[0mground_truth\u001b[0m\u001b[0;34m\u001b[0m\u001b[0;34m\u001b[0m\u001b[0m\n\u001b[0m",
      "\u001b[0;31mTypeError\u001b[0m: unsupported operand type(s) for -: 'list' and 'list'"
     ]
    }
   ],
   "source": [
    "pred - ground_truth"
   ]
  },
  {
   "cell_type": "code",
   "execution_count": 16,
   "metadata": {},
   "outputs": [
    {
     "data": {
      "text/plain": [
       "[False,\n",
       " False,\n",
       " False,\n",
       " False,\n",
       " False,\n",
       " False,\n",
       " False,\n",
       " False,\n",
       " False,\n",
       " False,\n",
       " False,\n",
       " False,\n",
       " False,\n",
       " False,\n",
       " False,\n",
       " False]"
      ]
     },
     "execution_count": 16,
     "metadata": {},
     "output_type": "execute_result"
    }
   ],
   "source": [
    "[gt==p for gt, p in zip(ground_truth, pred)]"
   ]
  },
  {
   "cell_type": "code",
   "execution_count": 17,
   "metadata": {},
   "outputs": [
    {
     "data": {
      "text/plain": [
       "[1, 1, 1, 1, 1, 1, 1, 1, 1, 1]"
      ]
     },
     "execution_count": 17,
     "metadata": {},
     "output_type": "execute_result"
    }
   ],
   "source": [
    "[1 for _ in range(10)]"
   ]
  },
  {
   "cell_type": "code",
   "execution_count": 34,
   "metadata": {},
   "outputs": [
    {
     "data": {
      "text/html": [
       "<div>\n",
       "<style scoped>\n",
       "    .dataframe tbody tr th:only-of-type {\n",
       "        vertical-align: middle;\n",
       "    }\n",
       "\n",
       "    .dataframe tbody tr th {\n",
       "        vertical-align: top;\n",
       "    }\n",
       "\n",
       "    .dataframe thead th {\n",
       "        text-align: right;\n",
       "    }\n",
       "</style>\n",
       "<table border=\"1\" class=\"dataframe\">\n",
       "  <thead>\n",
       "    <tr style=\"text-align: right;\">\n",
       "      <th></th>\n",
       "      <th>filename</th>\n",
       "      <th>ground_truth</th>\n",
       "      <th>softmax_score</th>\n",
       "    </tr>\n",
       "  </thead>\n",
       "  <tbody>\n",
       "    <tr>\n",
       "      <th>3</th>\n",
       "      <td>2606.png</td>\n",
       "      <td>0</td>\n",
       "      <td>[-2.3220810890197754, -2.2411248683929443, -2....</td>\n",
       "    </tr>\n",
       "    <tr>\n",
       "      <th>5</th>\n",
       "      <td>3884.png</td>\n",
       "      <td>0</td>\n",
       "      <td>[-2.383237838745117, -2.1783034801483154, -2.2...</td>\n",
       "    </tr>\n",
       "    <tr>\n",
       "      <th>9</th>\n",
       "      <td>296.png</td>\n",
       "      <td>0</td>\n",
       "      <td>[-2.2722108364105225, -2.289062261581421, -2.2...</td>\n",
       "    </tr>\n",
       "    <tr>\n",
       "      <th>10</th>\n",
       "      <td>1771.png</td>\n",
       "      <td>0</td>\n",
       "      <td>[-2.3974573612213135, -2.2905187606811523, -2....</td>\n",
       "    </tr>\n",
       "    <tr>\n",
       "      <th>11</th>\n",
       "      <td>2806.png</td>\n",
       "      <td>0</td>\n",
       "      <td>[-2.3141467571258545, -2.304086685180664, -2.2...</td>\n",
       "    </tr>\n",
       "  </tbody>\n",
       "</table>\n",
       "</div>"
      ],
      "text/plain": [
       "    filename  ground_truth                                      softmax_score\n",
       "3   2606.png             0  [-2.3220810890197754, -2.2411248683929443, -2....\n",
       "5   3884.png             0  [-2.383237838745117, -2.1783034801483154, -2.2...\n",
       "9    296.png             0  [-2.2722108364105225, -2.289062261581421, -2.2...\n",
       "10  1771.png             0  [-2.3974573612213135, -2.2905187606811523, -2....\n",
       "11  2806.png             0  [-2.3141467571258545, -2.304086685180664, -2.2..."
      ]
     },
     "execution_count": 34,
     "metadata": {},
     "output_type": "execute_result"
    }
   ],
   "source": [
    "df_2 = pd.read_csv('test.csv')\n",
    "df_2[df_2['ground_truth'] == 0]"
   ]
  },
  {
   "cell_type": "code",
   "execution_count": 3,
   "metadata": {},
   "outputs": [
    {
     "name": "stdout",
     "output_type": "stream",
     "text": [
      "['filename', 'logits', 'log_softmax_scores', 'prediction', 'last_epoch_prediction', 'classification_change', 'ground_truth', 'correct', 'loss', 'avg_batch_loss', 'loss_diff_from_avg', 'epoch', 'epoch_step']\n"
     ]
    },
    {
     "data": {
      "text/html": [
       "<div>\n",
       "<style scoped>\n",
       "    .dataframe tbody tr th:only-of-type {\n",
       "        vertical-align: middle;\n",
       "    }\n",
       "\n",
       "    .dataframe tbody tr th {\n",
       "        vertical-align: top;\n",
       "    }\n",
       "\n",
       "    .dataframe thead th {\n",
       "        text-align: right;\n",
       "    }\n",
       "</style>\n",
       "<table border=\"1\" class=\"dataframe\">\n",
       "  <thead>\n",
       "    <tr style=\"text-align: right;\">\n",
       "      <th></th>\n",
       "      <th>filename</th>\n",
       "      <th>logits</th>\n",
       "      <th>log_softmax_scores</th>\n",
       "      <th>prediction</th>\n",
       "      <th>last_epoch_prediction</th>\n",
       "      <th>classification_change</th>\n",
       "      <th>ground_truth</th>\n",
       "      <th>correct</th>\n",
       "      <th>loss</th>\n",
       "      <th>avg_batch_loss</th>\n",
       "      <th>loss_diff_from_avg</th>\n",
       "      <th>epoch</th>\n",
       "      <th>epoch_step</th>\n",
       "    </tr>\n",
       "  </thead>\n",
       "  <tbody>\n",
       "    <tr>\n",
       "      <th>0</th>\n",
       "      <td>29981.png</td>\n",
       "      <td>[0.06488434970378876, 0.052679359912872314, -0...</td>\n",
       "      <td>[-2.2209434509277344, -2.2331483364105225, -2....</td>\n",
       "      <td>0</td>\n",
       "      <td>NaN</td>\n",
       "      <td>NaN</td>\n",
       "      <td>6</td>\n",
       "      <td>False</td>\n",
       "      <td>2.355303</td>\n",
       "      <td>2.317841</td>\n",
       "      <td>0.037462</td>\n",
       "      <td>0</td>\n",
       "      <td>0</td>\n",
       "    </tr>\n",
       "    <tr>\n",
       "      <th>1</th>\n",
       "      <td>12753.png</td>\n",
       "      <td>[0.07177291810512543, 0.14005449414253235, -0....</td>\n",
       "      <td>[-2.225975751876831, -2.157694101333618, -2.38...</td>\n",
       "      <td>1</td>\n",
       "      <td>NaN</td>\n",
       "      <td>NaN</td>\n",
       "      <td>9</td>\n",
       "      <td>False</td>\n",
       "      <td>2.367213</td>\n",
       "      <td>2.317841</td>\n",
       "      <td>0.049372</td>\n",
       "      <td>0</td>\n",
       "      <td>0</td>\n",
       "    </tr>\n",
       "    <tr>\n",
       "      <th>2</th>\n",
       "      <td>7970.png</td>\n",
       "      <td>[-0.007546700537204742, 0.025097275152802467, ...</td>\n",
       "      <td>[-2.287449359893799, -2.254805564880371, -2.25...</td>\n",
       "      <td>5</td>\n",
       "      <td>NaN</td>\n",
       "      <td>NaN</td>\n",
       "      <td>6</td>\n",
       "      <td>False</td>\n",
       "      <td>2.378834</td>\n",
       "      <td>2.317841</td>\n",
       "      <td>0.060993</td>\n",
       "      <td>0</td>\n",
       "      <td>0</td>\n",
       "    </tr>\n",
       "    <tr>\n",
       "      <th>3</th>\n",
       "      <td>51961.png</td>\n",
       "      <td>[0.11391854286193848, 0.0960918590426445, -0.0...</td>\n",
       "      <td>[-2.1956822872161865, -2.2135090827941895, -2....</td>\n",
       "      <td>5</td>\n",
       "      <td>NaN</td>\n",
       "      <td>NaN</td>\n",
       "      <td>2</td>\n",
       "      <td>False</td>\n",
       "      <td>2.315382</td>\n",
       "      <td>2.317841</td>\n",
       "      <td>-0.002459</td>\n",
       "      <td>0</td>\n",
       "      <td>0</td>\n",
       "    </tr>\n",
       "    <tr>\n",
       "      <th>4</th>\n",
       "      <td>1651.png</td>\n",
       "      <td>[0.07645493000745773, 0.01714414358139038, -0....</td>\n",
       "      <td>[-2.2038631439208984, -2.263173818588257, -2.2...</td>\n",
       "      <td>0</td>\n",
       "      <td>NaN</td>\n",
       "      <td>NaN</td>\n",
       "      <td>3</td>\n",
       "      <td>False</td>\n",
       "      <td>2.441923</td>\n",
       "      <td>2.317841</td>\n",
       "      <td>0.124082</td>\n",
       "      <td>0</td>\n",
       "      <td>0</td>\n",
       "    </tr>\n",
       "  </tbody>\n",
       "</table>\n",
       "</div>"
      ],
      "text/plain": [
       "    filename                                             logits  \\\n",
       "0  29981.png  [0.06488434970378876, 0.052679359912872314, -0...   \n",
       "1  12753.png  [0.07177291810512543, 0.14005449414253235, -0....   \n",
       "2   7970.png  [-0.007546700537204742, 0.025097275152802467, ...   \n",
       "3  51961.png  [0.11391854286193848, 0.0960918590426445, -0.0...   \n",
       "4   1651.png  [0.07645493000745773, 0.01714414358139038, -0....   \n",
       "\n",
       "                                  log_softmax_scores  prediction  \\\n",
       "0  [-2.2209434509277344, -2.2331483364105225, -2....           0   \n",
       "1  [-2.225975751876831, -2.157694101333618, -2.38...           1   \n",
       "2  [-2.287449359893799, -2.254805564880371, -2.25...           5   \n",
       "3  [-2.1956822872161865, -2.2135090827941895, -2....           5   \n",
       "4  [-2.2038631439208984, -2.263173818588257, -2.2...           0   \n",
       "\n",
       "   last_epoch_prediction classification_change  ground_truth  correct  \\\n",
       "0                    NaN                   NaN             6    False   \n",
       "1                    NaN                   NaN             9    False   \n",
       "2                    NaN                   NaN             6    False   \n",
       "3                    NaN                   NaN             2    False   \n",
       "4                    NaN                   NaN             3    False   \n",
       "\n",
       "       loss  avg_batch_loss  loss_diff_from_avg  epoch  epoch_step  \n",
       "0  2.355303        2.317841            0.037462      0           0  \n",
       "1  2.367213        2.317841            0.049372      0           0  \n",
       "2  2.378834        2.317841            0.060993      0           0  \n",
       "3  2.315382        2.317841           -0.002459      0           0  \n",
       "4  2.441923        2.317841            0.124082      0           0  "
      ]
     },
     "execution_count": 3,
     "metadata": {},
     "output_type": "execute_result"
    }
   ],
   "source": [
    "print(list(df.keys()))\n",
    "df.head()"
   ]
  },
  {
   "cell_type": "code",
   "execution_count": 4,
   "metadata": {
    "scrolled": false
   },
   "outputs": [
    {
     "data": {
      "image/png": "[encoded data removed]",
      "text/plain": [
       "<Figure size 1440x504 with 10 Axes>"
      ]
     },
     "metadata": {
      "needs_background": "light"
     },
     "output_type": "display_data"
    }
   ],
   "source": [
    "large_losses = df[df['epoch'] == 0].sort_values(by='loss_diff_from_avg', ascending=False)[:10]\n",
    "data_dir = 'data/mnist/train'\n",
    "plt.figure(figsize=(20,7))\n",
    "for i, (_, row) in enumerate(large_losses.iterrows()):\n",
    "  plt.subplot(2,5,i+1)\n",
    "  fn = os.path.join(data_dir, row.filename)\n",
    "  plt.imshow(plt.imread(fn), cmap='gray')\n",
    "  plt.title('GT: {gt}, Pred: {p}, Loss: {l}'.format(gt=int(row.ground_truth), p=int(row.prediction), l=int(row.loss)))\n",
    "  plt.axis('off')\n",
    "plt.show()"
   ]
  },
  {
   "cell_type": "code",
   "execution_count": null,
   "metadata": {},
   "outputs": [],
   "source": []
  },
  {
   "cell_type": "code",
   "execution_count": null,
   "metadata": {},
   "outputs": [],
   "source": []
  }
 ],
 "metadata": {
  "kernelspec": {
   "display_name": "blog",
   "language": "python",
   "name": "blog"
  },
  "language_info": {
   "codemirror_mode": {
    "name": "ipython",
    "version": 3
   },
   "file_extension": ".py",
   "mimetype": "text/x-python",
   "name": "python",
   "nbconvert_exporter": "python",
   "pygments_lexer": "ipython3",
   "version": "3.6.10"
  }
 },
 "nbformat": 4,
 "nbformat_minor": 2
}
